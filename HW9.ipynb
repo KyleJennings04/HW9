{
 "cells": [
  {
   "cell_type": "markdown",
   "metadata": {},
   "source": [
    "## Intro to Computer Programming - Homework 9 - Fall 2024 - Wilmington College  "
   ]
  },
  {
   "cell_type": "markdown",
   "metadata": {},
   "source": [
    "### Exercise 1: Number of unique vowels in a string\n",
    "Given a string, calculate and print the number of unique vowels using a dictionary.\n",
    "\n",
    "**Input:**  \n",
    "`string_value = \"This is a string containing vowels\"`  \n",
    "\n",
    "**Prints:**  \n",
    "`4` (vowels: 'i', 'a', 'o', 'e')\n"
   ]
  },
  {
   "cell_type": "code",
   "execution_count": 1,
   "metadata": {},
   "outputs": [
    {
     "name": "stdout",
     "output_type": "stream",
     "text": [
      "4\n"
     ]
    }
   ],
   "source": [
    "# -------------------- Solution ----------------------- #\n",
    "# Write your code here:\n",
    "string_value = \"This is a string containing vowels\"\n",
    "vowels = {}\n",
    "for i in string_value:\n",
    "    if i in \"aeiou\":\n",
    "        vowels[i] = 1\n",
    "print(len(list(vowels.keys())))\n"
   ]
  },
  {
   "cell_type": "markdown",
   "metadata": {},
   "source": [
    "### Exercise 2: Word frequency count in a sentence\n",
    "\n",
    "Given a sentence, calculate and print the frequency of each word using a dictionary. \n",
    "\n",
    "For example:\n",
    "\n",
    "```\n",
    "sentence = \"Data science is fun and data science is growing\"\n",
    "```\n",
    "\n",
    "**Expected Output:**\n",
    "\n",
    "```\n",
    "{'Data': 2, 'science': 2, 'is': 2, 'fun': 1, 'and': 1, 'growing': 1}\n",
    "```\n"
   ]
  },
  {
   "cell_type": "code",
   "execution_count": 6,
   "metadata": {},
   "outputs": [
    {
     "name": "stdout",
     "output_type": "stream",
     "text": [
      "{'data': 2, 'science': 2, 'is': 2, 'fun': 1, 'and': 1, 'growing': 1}\n"
     ]
    }
   ],
   "source": [
    "# -------------------- Solution ----------------------- #\n",
    "# Write your code here:\n",
    "sentence = \"Data science is fun and data science is growing\"\n",
    "words = (sentence.lower()).split()\n",
    "frequency = {}\n",
    "for word in words:\n",
    "    if word in frequency:\n",
    "        frequency[word] += 1\n",
    "    else:\n",
    "        frequency[word] = 1\n",
    "print(frequency)\n"
   ]
  },
  {
   "cell_type": "markdown",
   "metadata": {},
   "source": [
    "### Exercise 3: Student Grades Conversion\n",
    "Suppose you have a dictionary containing the names of students as keys and their respective grades as values. The grades are out of 100. Write a Python program that uses dictionary comprehension to create a new dictionary where the values are the grades converted to a scale of 4.0, assuming the following mapping:\n",
    "\n",
    "- 90 and above -> 4.0\n",
    "- 80 to 89 -> 3.0\n",
    "- 70 to 79 -> 2.0\n",
    "- 60 to 69 -> 1.0\n",
    "- Below 60 -> 0.0\n",
    "\n",
    "```\n",
    "# Original dictionary of student grades\n",
    "student_grades = {\n",
    "    'Alice': 95,\n",
    "    'Bob': 85,\n",
    "    'Charlie': 72,\n",
    "    'David': 60,\n",
    "    'Eve': 50\n",
    "}\n",
    "```"
   ]
  },
  {
   "cell_type": "code",
   "execution_count": 10,
   "metadata": {},
   "outputs": [
    {
     "name": "stdout",
     "output_type": "stream",
     "text": [
      "{'Alice': 4.0, 'Bob': 3.0, 'Charlie': 2.0, 'David': 0.0, 'Eve': 0.0}\n"
     ]
    }
   ],
   "source": [
    "# -------------------- Solution ----------------------- #\n",
    "# Write your code here:\n",
    "student_grades = {\n",
    "    'Alice': 95,\n",
    "    'Bob': 85,\n",
    "    'Charlie': 72,\n",
    "    'David': 60,\n",
    "    'Eve': 50\n",
    "}\n",
    "for key in student_grades.keys():\n",
    "    if student_grades[key] > 90:\n",
    "        student_grades[key] = 4.0\n",
    "    elif student_grades[key] > 80 and student_grades[key] < 89:\n",
    "        student_grades[key] = 3.0\n",
    "    elif student_grades[key] > 70 and student_grades[key] < 79:\n",
    "        student_grades[key] = 2.0\n",
    "    elif student_grades[key] > 60 and student_grades[key] < 69:\n",
    "        student_grades[key] = 1.0\n",
    "    else:\n",
    "        student_grades[key] = 0.0\n",
    "print(student_grades)"
   ]
  },
  {
   "cell_type": "markdown",
   "metadata": {},
   "source": [
    "### Exercise 4: \n",
    "\n",
    "You have a dictionary containing information about students in a school. Each student is identified by a student ID, and their information includes their name, grade level, and GPA. You want to group students by their grade level, so that you can easily see the names and GPAs of all students in each grade. Write a Python program that, when given a dictionary of students, outputs a nested dictionary that groups students by their grade level.\n",
    "\n",
    "**Input:**\n",
    "\n",
    "```\n",
    "students = {\n",
    "    101: {\"name\": \"John\", \"grade\": \"10\", \"GPA\": 3.8},\n",
    "    102: {\"name\": \"Jane\", \"grade\": \"12\", \"GPA\": 4.0},\n",
    "    103: {\"name\": \"Jim\", \"grade\": \"11\", \"GPA\": 3.5},\n",
    "    104: {\"name\": \"Jake\", \"grade\": \"10\", \"GPA\": 3.6},\n",
    "    105: {\"name\": \"Jill\", \"grade\": \"12\", \"GPA\": 3.9}\n",
    "}\n",
    "```\n",
    "\n",
    "**Expected Output:**\n",
    "\n",
    "```\n",
    "{\n",
    "    \"10\": {101: {\"name\": \"John\", \"GPA\": 3.8}, 104: {\"name\": \"Jake\", \"GPA\": 3.6}},\n",
    "    \"11\": {103: {\"name\": \"Jim\", \"GPA\": 3.5}},\n",
    "    \"12\": {102: {\"name\": \"Jane\", \"GPA\": 4.0}, 105: {\"name\": \"Jill\", \"GPA\": 3.9}}\n",
    "}\n",
    "```\n"
   ]
  },
  {
   "cell_type": "code",
   "execution_count": null,
   "metadata": {},
   "outputs": [
    {
     "name": "stdout",
     "output_type": "stream",
     "text": [
      "{'10': {101: {'name': 'John', 'GPA': 3.8}, 104: {'name': 'Jake', 'GPA': 3.6}}, '12': {102: {'name': 'Jane', 'GPA': 4.0}, 105: {'name': 'Jill', 'GPA': 3.9}}, '11': {103: {'name': 'Jim', 'GPA': 3.5}}}\n"
     ]
    }
   ],
   "source": [
    "# -------------------- Solution ----------------------- #\n",
    "# Write your code here:\n",
    "students = {\n",
    "    101: {\"name\": \"John\", \"grade\": \"10\", \"GPA\": 3.8},\n",
    "    102: {\"name\": \"Jane\", \"grade\": \"12\", \"GPA\": 4.0},\n",
    "    103: {\"name\": \"Jim\", \"grade\": \"11\", \"GPA\": 3.5},\n",
    "    104: {\"name\": \"Jake\", \"grade\": \"10\", \"GPA\": 3.6},\n",
    "    105: {\"name\": \"Jill\", \"grade\": \"12\", \"GPA\": 3.9}\n",
    "}\n",
    "grade_level = {}\n",
    "for id, info in students.items():\n",
    "    grade = info[\"grade\"]\n",
    "    if grade not in grade_level:\n",
    "        grade_level[grade] = {}\n",
    "    grade_level[grade][id] = {\"name\": info[\"name\"], \"GPA\": info[\"GPA\"]}\n",
    "print(grade_level)"
   ]
  },
  {
   "cell_type": "markdown",
   "metadata": {},
   "source": [
    "### Exercise 5: Positive and Negative Values\n",
    "Given a list of integers, create a dictionary with two keys, \"positive\" and \"negative\". The values associated with each key must be the list of corresponding positive and negative values in the given list.\n",
    "\n",
    "    Input:\n",
    "    input_list = [4, -1, 3, -2, 0]\n",
    "    \n",
    "    Output:\n",
    "    {\"positive\": [4, 3], \"negative\": [-1, -2]}\n"
   ]
  },
  {
   "cell_type": "code",
   "execution_count": 16,
   "metadata": {},
   "outputs": [
    {
     "name": "stdout",
     "output_type": "stream",
     "text": [
      "{'positive': [4, 3], 'negative': [-1, -2]}\n"
     ]
    }
   ],
   "source": [
    "# -------------------- Solution ----------------------- #\n",
    "# Write your code here:\n",
    "input_list = [4, -1, 3, -2, 0]\n",
    "my_dict = {\"positive\":[], \"negative\":[]}\n",
    "for i in input_list:\n",
    "    if i > 0:\n",
    "        my_dict[\"positive\"].append(i)\n",
    "    elif i < 0:\n",
    "        my_dict[\"negative\"].append(i)\n",
    "    else:\n",
    "        continue\n",
    "print(my_dict)\n"
   ]
  }
 ],
 "metadata": {
  "kernelspec": {
   "display_name": "Python 3",
   "language": "python",
   "name": "python3"
  },
  "language_info": {
   "codemirror_mode": {
    "name": "ipython",
    "version": 3
   },
   "file_extension": ".py",
   "mimetype": "text/x-python",
   "name": "python",
   "nbconvert_exporter": "python",
   "pygments_lexer": "ipython3",
   "version": "3.12.1"
  }
 },
 "nbformat": 4,
 "nbformat_minor": 2
}
